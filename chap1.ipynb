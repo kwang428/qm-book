{
 "cells": [
  {
   "cell_type": "code",
   "execution_count": 2,
   "id": "d05ae076-d1ca-4f93-81f3-0c4245c7d5c8",
   "metadata": {},
   "outputs": [],
   "source": [
    "import drawsvg as draw"
   ]
  },
  {
   "cell_type": "code",
   "execution_count": 68,
   "id": "88d67872-9559-41b0-ba52-93b77509dfac",
   "metadata": {},
   "outputs": [],
   "source": [
    "d = draw.Drawing(300, 300, origin = 'center')\n",
    "\n",
    "arrow = draw.Marker(-0.1, -0.51, 0.9, 0.5, scale=4, orient='auto')\n",
    "arrow.append(draw.Lines(-0.1, 0.5, -0.1, -0.5, 0.9, 0, fill='black', close=True, stroke_width=3))\n",
    "\n",
    "r = draw.Rectangle(-50, -100, 10, 100, fill='none', stroke='black', stroke_opacity=1,stroke_width=3)\n",
    "l1 = draw.Lines(-50,-50, -100,-50,-100, 100, 100, 100,100,-50,50,-50, fill='none', stroke='black',stroke_width=3)\n",
    "l2 = draw.Line(50,-100, 50,0, stroke='black',stroke_width=3)\n",
    "p = draw.Path(stroke='black', fill='none', stroke_width=3, marker_end=arrow)\n",
    "\n",
    "l3 = draw.Line(-30, -20, 30, -20, stroke='black',stroke_width=3,marker_end=arrow)\n",
    "t = draw.Text('e',24,-5,5)\n",
    "t.append(draw.TSpan('-',dy=-7.5))\n",
    "t2 =draw.Text('V',24, 60, -75)\n",
    "t2.append(draw.TSpan('stop',dy=5,font_size=18))\n",
    "\n",
    "c=draw.Circle(0,100,25,fill='white',stroke='black', stroke_width=2)\n",
    "t3 = draw.Text('A', 24, 0,100,center=True)\n",
    "\n",
    "d.append(p.M(25, -95).Q(10, -100, 5, -85).Q(5,-70,-15,-75).Q(-25,-75,-30,-65))\n",
    "d.append(r)\n",
    "d.append(l1)\n",
    "d.append(l2)\n",
    "d.append(p)\n",
    "d.append(l3)\n",
    "d.append(t)\n",
    "d.append(t2)\n",
    "d.append(c)\n",
    "d.append(t3)\n",
    "\n",
    "d\n",
    "\n",
    "d.save_svg('chap1_photoelectric.svg')"
   ]
  },
  {
   "cell_type": "code",
   "execution_count": 112,
   "id": "bacce6c5-8afb-4528-9502-f334ecd11a44",
   "metadata": {},
   "outputs": [],
   "source": [
    "d = draw.Drawing(225,225, origin='center')\n",
    "\n",
    "arrow = draw.Marker(-0.1, -0.51, 0.9, 0.5, scale=4, orient='auto')\n",
    "arrow.append(draw.Lines(-0.1, 0.5, -0.1, -0.5, 0.9, 0, fill='black', close=True, stroke_width=3))\n",
    "\n",
    "arrow2 = draw.Marker(-0.9, -0.51, 0.9, 0.5, scale=4, orient='auto')\n",
    "arrow2.append(draw.Lines(0.1, 0.5, 0.1, -0.5, -0.9, 0, fill='black', close=True, stroke_width=3))\n",
    "\n",
    "c = draw.Circle(0,0,10, fill='black')\n",
    "c2 = draw.Circle(0,0,70, fill='none', stroke_width=3, stroke='black')\n",
    "c3 = draw.Circle(70,0,5, fill='white', stroke='black', stroke_width=3)\n",
    "\n",
    "l1 = draw.Line(17,0,57,0, marker_end=arrow, marker_start=arrow2, stroke='black', stroke_width=2)\n",
    "l2 = draw.Line(70,-10,70,-35,marker_end=arrow,stroke='black', stroke_width=2)\n",
    "\n",
    "t1 = draw.Text('e', 24, -20, -10)\n",
    "t2 = draw.Text('-e', 24, 80, 0)\n",
    "t3 = draw.Text('r', 24, 35,-20, center=True)\n",
    "t4 = draw.Text('v', 24, 80,-50, center=True)\n",
    "\n",
    "d.append(c)\n",
    "d.append(c2)\n",
    "d.append(c3)\n",
    "d.append(l1)\n",
    "d.append(l2)\n",
    "d.append(t1)\n",
    "d.append(t2)\n",
    "d.append(t3)\n",
    "d.append(t4)\n",
    "\n",
    "d\n",
    "\n",
    "d.save_svg('chap1_atom_model.svg')"
   ]
  },
  {
   "cell_type": "code",
   "execution_count": null,
   "id": "83828599-4312-49fa-b71f-929a4ce630e9",
   "metadata": {},
   "outputs": [],
   "source": []
  }
 ],
 "metadata": {
  "kernelspec": {
   "display_name": "Python 3 (ipykernel)",
   "language": "python",
   "name": "python3"
  },
  "language_info": {
   "codemirror_mode": {
    "name": "ipython",
    "version": 3
   },
   "file_extension": ".py",
   "mimetype": "text/x-python",
   "name": "python",
   "nbconvert_exporter": "python",
   "pygments_lexer": "ipython3",
   "version": "3.12.1"
  }
 },
 "nbformat": 4,
 "nbformat_minor": 5
}
